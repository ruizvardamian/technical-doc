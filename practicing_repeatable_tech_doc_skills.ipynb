{
  "nbformat": 4,
  "nbformat_minor": 0,
  "metadata": {
    "colab": {
      "name": "practicing-repeatable-tech-doc-skills.ipynb",
      "provenance": [],
      "authorship_tag": "ABX9TyMN1IDGtw32RY8/o1XRNlww",
      "include_colab_link": true
    },
    "kernelspec": {
      "name": "python3",
      "display_name": "Python 3"
    },
    "language_info": {
      "name": "python"
    }
  },
  "cells": [
    {
      "cell_type": "markdown",
      "metadata": {
        "id": "view-in-github",
        "colab_type": "text"
      },
      "source": [
        "<a href=\"https://colab.research.google.com/github/ruizvardamian/technical-doc/blob/main/practicing_repeatable_tech_doc_skills.ipynb\" target=\"_parent\"><img src=\"https://colab.research.google.com/assets/colab-badge.svg\" alt=\"Open In Colab\"/></a>"
      ]
    },
    {
      "cell_type": "code",
      "execution_count": null,
      "metadata": {
        "id": "YVnzUcCcd72W"
      },
      "outputs": [],
      "source": [
        ""
      ]
    },
    {
      "cell_type": "markdown",
      "source": [
        "# Testing Jupyter and Markdown\n",
        "## *Just a python function*"
      ],
      "metadata": {
        "id": "CXwVQlfNfRNr"
      }
    },
    {
      "cell_type": "code",
      "source": [
        "def Hello():\n",
        "  print(\"Hello everyone\")\n",
        "\n",
        "Hello()"
      ],
      "metadata": {
        "colab": {
          "base_uri": "https://localhost:8080/"
        },
        "id": "hNOqlTzffUsS",
        "outputId": "9a533f75-559b-4b4a-b6ed-546bf348ef0b"
      },
      "execution_count": 1,
      "outputs": [
        {
          "output_type": "stream",
          "name": "stdout",
          "text": [
            "Hello everyone\n"
          ]
        }
      ]
    }
  ]
}